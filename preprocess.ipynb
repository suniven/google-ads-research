{
 "cells": [
  {
   "cell_type": "code",
   "execution_count": 1,
   "metadata": {
    "collapsed": true
   },
   "outputs": [],
   "source": [
    "import pandas as pd"
   ]
  },
  {
   "cell_type": "code",
   "execution_count": 14,
   "outputs": [],
   "source": [
    "df = pd.read_csv('text.csv')"
   ],
   "metadata": {
    "collapsed": false
   }
  },
  {
   "cell_type": "code",
   "execution_count": 9,
   "outputs": [
    {
     "data": {
      "text/plain": "                     domain                                               text\n0           en.hongdian.com  China(简体中文)\\n日本語\\nрусский язык\\nEspañol\\nHOME\\...\n1               hotmart.com  \\nHotmart — Learn what you want, teach what yo...\n2    philippineairlines.com  \\nPhilippine Airlines\\n\\n\\n\\n\\n\\n\\n\\n\\n\\n\\n\\n\\...\n3                hotels.com  Bot or Not?Show us your human side...We can't ...\n4           leverageedu.com  Leverage Edu - Your Trusted Study Abroad Exper...\n..                      ...                                                ...\n491           tmtambayan.ph  TM Tambayan - Call, Text, and Surf Promos     ...\n492             sunwoda.com  欣旺达-欣旺达电子股份有限公司                               ...\n493               hyatt.com  酒店预订 | 在线预订酒店客房 - 凯悦酒店及度假村                    ...\n494      monitormyocean.com  MonitorMyOcean     Monitor My OceanThe Acousti...\n495            nt-mevid.com  南通美韦德生命科学有限公司                       English | ...\n\n[496 rows x 2 columns]",
      "text/html": "<div>\n<style scoped>\n    .dataframe tbody tr th:only-of-type {\n        vertical-align: middle;\n    }\n\n    .dataframe tbody tr th {\n        vertical-align: top;\n    }\n\n    .dataframe thead th {\n        text-align: right;\n    }\n</style>\n<table border=\"1\" class=\"dataframe\">\n  <thead>\n    <tr style=\"text-align: right;\">\n      <th></th>\n      <th>domain</th>\n      <th>text</th>\n    </tr>\n  </thead>\n  <tbody>\n    <tr>\n      <th>0</th>\n      <td>en.hongdian.com</td>\n      <td>China(简体中文)\\n日本語\\nрусский язык\\nEspañol\\nHOME\\...</td>\n    </tr>\n    <tr>\n      <th>1</th>\n      <td>hotmart.com</td>\n      <td>\\nHotmart — Learn what you want, teach what yo...</td>\n    </tr>\n    <tr>\n      <th>2</th>\n      <td>philippineairlines.com</td>\n      <td>\\nPhilippine Airlines\\n\\n\\n\\n\\n\\n\\n\\n\\n\\n\\n\\n\\...</td>\n    </tr>\n    <tr>\n      <th>3</th>\n      <td>hotels.com</td>\n      <td>Bot or Not?Show us your human side...We can't ...</td>\n    </tr>\n    <tr>\n      <th>4</th>\n      <td>leverageedu.com</td>\n      <td>Leverage Edu - Your Trusted Study Abroad Exper...</td>\n    </tr>\n    <tr>\n      <th>...</th>\n      <td>...</td>\n      <td>...</td>\n    </tr>\n    <tr>\n      <th>491</th>\n      <td>tmtambayan.ph</td>\n      <td>TM Tambayan - Call, Text, and Surf Promos     ...</td>\n    </tr>\n    <tr>\n      <th>492</th>\n      <td>sunwoda.com</td>\n      <td>欣旺达-欣旺达电子股份有限公司                               ...</td>\n    </tr>\n    <tr>\n      <th>493</th>\n      <td>hyatt.com</td>\n      <td>酒店预订 | 在线预订酒店客房 - 凯悦酒店及度假村                    ...</td>\n    </tr>\n    <tr>\n      <th>494</th>\n      <td>monitormyocean.com</td>\n      <td>MonitorMyOcean     Monitor My OceanThe Acousti...</td>\n    </tr>\n    <tr>\n      <th>495</th>\n      <td>nt-mevid.com</td>\n      <td>南通美韦德生命科学有限公司                       English | ...</td>\n    </tr>\n  </tbody>\n</table>\n<p>496 rows × 2 columns</p>\n</div>"
     },
     "execution_count": 9,
     "metadata": {},
     "output_type": "execute_result"
    }
   ],
   "source": [
    "df"
   ],
   "metadata": {
    "collapsed": false
   }
  },
  {
   "cell_type": "code",
   "execution_count": 13,
   "outputs": [],
   "source": [
    "import unicodedata\n",
    "import re\n",
    "import collections\n",
    "\n",
    "def remove_lines(text):\n",
    "    text = text.translate(text.maketrans(\"\\n\\t\\r\", \"   \"))\n",
    "    text = re.sub(' +', '  ', text)\n",
    "    return text"
   ],
   "metadata": {
    "collapsed": false
   }
  },
  {
   "cell_type": "code",
   "execution_count": 15,
   "outputs": [
    {
     "name": "stderr",
     "output_type": "stream",
     "text": [
      "100%|██████████| 496/496 [00:00<00:00, 1435.85it/s]\n"
     ]
    }
   ],
   "source": [
    "from tqdm import tqdm\n",
    "\n",
    "for i in tqdm(range(len(df))):\n",
    "    if df.loc[i, 'text'] == df.loc[i, 'text']:\n",
    "        df.loc[i, 'text'] = remove_lines(df.loc[i, 'text'])"
   ],
   "metadata": {
    "collapsed": false
   }
  },
  {
   "cell_type": "code",
   "execution_count": 16,
   "outputs": [
    {
     "data": {
      "text/plain": "                     domain                                               text\n0           en.hongdian.com  China(简体中文)  日本語  русский  язык  Español  HOME...\n1               hotmart.com    Hotmart  —  Learn  what  you  want,  teach  ...\n2    philippineairlines.com    Philippine  Airlines  Book  Explore  Manage ...\n3                hotels.com  Bot  or  Not?Show  us  your  human  side...We ...\n4           leverageedu.com  Leverage  Edu  -  Your  Trusted  Study  Abroad...\n..                      ...                                                ...\n491           tmtambayan.ph  TM  Tambayan  -  Call,  Text,  and  Surf  Prom...\n492             sunwoda.com  欣旺达-欣旺达电子股份有限公司  Toggle  navigation  股票名称:  欣旺...\n493               hyatt.com  酒店预订  |  在线预订酒店客房  -  凯悦酒店及度假村  略过主导航EnglishDe...\n494      monitormyocean.com  MonitorMyOcean  Monitor  My  OceanThe  Acousti...\n495            nt-mevid.com  南通美韦德生命科学有限公司  English  |  中文  网站首页  关于我们  公司简...\n\n[496 rows x 2 columns]",
      "text/html": "<div>\n<style scoped>\n    .dataframe tbody tr th:only-of-type {\n        vertical-align: middle;\n    }\n\n    .dataframe tbody tr th {\n        vertical-align: top;\n    }\n\n    .dataframe thead th {\n        text-align: right;\n    }\n</style>\n<table border=\"1\" class=\"dataframe\">\n  <thead>\n    <tr style=\"text-align: right;\">\n      <th></th>\n      <th>domain</th>\n      <th>text</th>\n    </tr>\n  </thead>\n  <tbody>\n    <tr>\n      <th>0</th>\n      <td>en.hongdian.com</td>\n      <td>China(简体中文)  日本語  русский  язык  Español  HOME...</td>\n    </tr>\n    <tr>\n      <th>1</th>\n      <td>hotmart.com</td>\n      <td>Hotmart  —  Learn  what  you  want,  teach  ...</td>\n    </tr>\n    <tr>\n      <th>2</th>\n      <td>philippineairlines.com</td>\n      <td>Philippine  Airlines  Book  Explore  Manage ...</td>\n    </tr>\n    <tr>\n      <th>3</th>\n      <td>hotels.com</td>\n      <td>Bot  or  Not?Show  us  your  human  side...We ...</td>\n    </tr>\n    <tr>\n      <th>4</th>\n      <td>leverageedu.com</td>\n      <td>Leverage  Edu  -  Your  Trusted  Study  Abroad...</td>\n    </tr>\n    <tr>\n      <th>...</th>\n      <td>...</td>\n      <td>...</td>\n    </tr>\n    <tr>\n      <th>491</th>\n      <td>tmtambayan.ph</td>\n      <td>TM  Tambayan  -  Call,  Text,  and  Surf  Prom...</td>\n    </tr>\n    <tr>\n      <th>492</th>\n      <td>sunwoda.com</td>\n      <td>欣旺达-欣旺达电子股份有限公司  Toggle  navigation  股票名称:  欣旺...</td>\n    </tr>\n    <tr>\n      <th>493</th>\n      <td>hyatt.com</td>\n      <td>酒店预订  |  在线预订酒店客房  -  凯悦酒店及度假村  略过主导航EnglishDe...</td>\n    </tr>\n    <tr>\n      <th>494</th>\n      <td>monitormyocean.com</td>\n      <td>MonitorMyOcean  Monitor  My  OceanThe  Acousti...</td>\n    </tr>\n    <tr>\n      <th>495</th>\n      <td>nt-mevid.com</td>\n      <td>南通美韦德生命科学有限公司  English  |  中文  网站首页  关于我们  公司简...</td>\n    </tr>\n  </tbody>\n</table>\n<p>496 rows × 2 columns</p>\n</div>"
     },
     "execution_count": 16,
     "metadata": {},
     "output_type": "execute_result"
    }
   ],
   "source": [
    "df"
   ],
   "metadata": {
    "collapsed": false
   }
  },
  {
   "cell_type": "code",
   "execution_count": 17,
   "outputs": [],
   "source": [
    "df = df.reindex(columns=df.columns.to_list() + ['category'])"
   ],
   "metadata": {
    "collapsed": false
   }
  },
  {
   "cell_type": "code",
   "execution_count": 18,
   "outputs": [
    {
     "data": {
      "text/plain": "                     domain  \\\n0           en.hongdian.com   \n1               hotmart.com   \n2    philippineairlines.com   \n3                hotels.com   \n4           leverageedu.com   \n..                      ...   \n491           tmtambayan.ph   \n492             sunwoda.com   \n493               hyatt.com   \n494      monitormyocean.com   \n495            nt-mevid.com   \n\n                                                  text  category  \n0    China(简体中文)  日本語  русский  язык  Español  HOME...       NaN  \n1      Hotmart  —  Learn  what  you  want,  teach  ...       NaN  \n2      Philippine  Airlines  Book  Explore  Manage ...       NaN  \n3    Bot  or  Not?Show  us  your  human  side...We ...       NaN  \n4    Leverage  Edu  -  Your  Trusted  Study  Abroad...       NaN  \n..                                                 ...       ...  \n491  TM  Tambayan  -  Call,  Text,  and  Surf  Prom...       NaN  \n492  欣旺达-欣旺达电子股份有限公司  Toggle  navigation  股票名称:  欣旺...       NaN  \n493  酒店预订  |  在线预订酒店客房  -  凯悦酒店及度假村  略过主导航EnglishDe...       NaN  \n494  MonitorMyOcean  Monitor  My  OceanThe  Acousti...       NaN  \n495  南通美韦德生命科学有限公司  English  |  中文  网站首页  关于我们  公司简...       NaN  \n\n[496 rows x 3 columns]",
      "text/html": "<div>\n<style scoped>\n    .dataframe tbody tr th:only-of-type {\n        vertical-align: middle;\n    }\n\n    .dataframe tbody tr th {\n        vertical-align: top;\n    }\n\n    .dataframe thead th {\n        text-align: right;\n    }\n</style>\n<table border=\"1\" class=\"dataframe\">\n  <thead>\n    <tr style=\"text-align: right;\">\n      <th></th>\n      <th>domain</th>\n      <th>text</th>\n      <th>category</th>\n    </tr>\n  </thead>\n  <tbody>\n    <tr>\n      <th>0</th>\n      <td>en.hongdian.com</td>\n      <td>China(简体中文)  日本語  русский  язык  Español  HOME...</td>\n      <td>NaN</td>\n    </tr>\n    <tr>\n      <th>1</th>\n      <td>hotmart.com</td>\n      <td>Hotmart  —  Learn  what  you  want,  teach  ...</td>\n      <td>NaN</td>\n    </tr>\n    <tr>\n      <th>2</th>\n      <td>philippineairlines.com</td>\n      <td>Philippine  Airlines  Book  Explore  Manage ...</td>\n      <td>NaN</td>\n    </tr>\n    <tr>\n      <th>3</th>\n      <td>hotels.com</td>\n      <td>Bot  or  Not?Show  us  your  human  side...We ...</td>\n      <td>NaN</td>\n    </tr>\n    <tr>\n      <th>4</th>\n      <td>leverageedu.com</td>\n      <td>Leverage  Edu  -  Your  Trusted  Study  Abroad...</td>\n      <td>NaN</td>\n    </tr>\n    <tr>\n      <th>...</th>\n      <td>...</td>\n      <td>...</td>\n      <td>...</td>\n    </tr>\n    <tr>\n      <th>491</th>\n      <td>tmtambayan.ph</td>\n      <td>TM  Tambayan  -  Call,  Text,  and  Surf  Prom...</td>\n      <td>NaN</td>\n    </tr>\n    <tr>\n      <th>492</th>\n      <td>sunwoda.com</td>\n      <td>欣旺达-欣旺达电子股份有限公司  Toggle  navigation  股票名称:  欣旺...</td>\n      <td>NaN</td>\n    </tr>\n    <tr>\n      <th>493</th>\n      <td>hyatt.com</td>\n      <td>酒店预订  |  在线预订酒店客房  -  凯悦酒店及度假村  略过主导航EnglishDe...</td>\n      <td>NaN</td>\n    </tr>\n    <tr>\n      <th>494</th>\n      <td>monitormyocean.com</td>\n      <td>MonitorMyOcean  Monitor  My  OceanThe  Acousti...</td>\n      <td>NaN</td>\n    </tr>\n    <tr>\n      <th>495</th>\n      <td>nt-mevid.com</td>\n      <td>南通美韦德生命科学有限公司  English  |  中文  网站首页  关于我们  公司简...</td>\n      <td>NaN</td>\n    </tr>\n  </tbody>\n</table>\n<p>496 rows × 3 columns</p>\n</div>"
     },
     "execution_count": 18,
     "metadata": {},
     "output_type": "execute_result"
    }
   ],
   "source": [
    "df"
   ],
   "metadata": {
    "collapsed": false
   }
  },
  {
   "cell_type": "code",
   "execution_count": 19,
   "outputs": [],
   "source": [
    "df.to_csv('text.csv', index = False)"
   ],
   "metadata": {
    "collapsed": false
   }
  },
  {
   "cell_type": "code",
   "execution_count": 2,
   "outputs": [],
   "source": [
    "df = pd.read_csv('domain_with_category.csv')"
   ],
   "metadata": {
    "collapsed": false
   }
  },
  {
   "cell_type": "code",
   "execution_count": 3,
   "outputs": [
    {
     "data": {
      "text/plain": "                     domain  \\\n0           en.hongdian.com   \n1               hotmart.com   \n2    philippineairlines.com   \n3                hotels.com   \n4           leverageedu.com   \n..                      ...   \n491           tmtambayan.ph   \n492             sunwoda.com   \n493               hyatt.com   \n494      monitormyocean.com   \n495            nt-mevid.com   \n\n                                                  text  category  \\\n0    China(简体中文)  日本語  русский  язык  Español  HOME...       NaN   \n1      Hotmart  —  Learn  what  you  want,  teach  ...       NaN   \n2      Philippine  Airlines  Book  Explore  Manage ...       NaN   \n3    Bot  or  Not?Show  us  your  human  side...We ...       NaN   \n4    Leverage  Edu  -  Your  Trusted  Study  Abroad...       NaN   \n..                                                 ...       ...   \n491  TM  Tambayan  -  Call,  Text,  and  Surf  Prom...       NaN   \n492  欣旺达-欣旺达电子股份有限公司  Toggle  navigation  股票名称:  欣旺...       NaN   \n493  酒店预订  |  在线预订酒店客房  -  凯悦酒店及度假村  略过主导航EnglishDe...       NaN   \n494  MonitorMyOcean  Monitor  My  OceanThe  Acousti...       NaN   \n495  南通美韦德生命科学有限公司  English  |  中文  网站首页  关于我们  公司简...       NaN   \n\n                                               results  \n0    categories {\\n  name: \"/Computers & Electronic...  \n1    categories {\\n  name: \"/Business & Industrial/...  \n2    categories {\\n  name: \"/Travel & Transportatio...  \n3    categories {\\n  name: \"/Arts & Entertainment/F...  \n4    categories {\\n  name: \"/Jobs & Education/Educa...  \n..                                                 ...  \n491  categories {\\n  name: \"/Internet & Telecom/Ser...  \n492  categories {\\n  name: \"/News/Business News/Com...  \n493  categories {\\n  name: \"/Travel & Transportatio...  \n494  categories {\\n  name: \"/Science/Earth Sciences...  \n495  categories {\\n  name: \"/Science/Scientific Equ...  \n\n[496 rows x 4 columns]",
      "text/html": "<div>\n<style scoped>\n    .dataframe tbody tr th:only-of-type {\n        vertical-align: middle;\n    }\n\n    .dataframe tbody tr th {\n        vertical-align: top;\n    }\n\n    .dataframe thead th {\n        text-align: right;\n    }\n</style>\n<table border=\"1\" class=\"dataframe\">\n  <thead>\n    <tr style=\"text-align: right;\">\n      <th></th>\n      <th>domain</th>\n      <th>text</th>\n      <th>category</th>\n      <th>results</th>\n    </tr>\n  </thead>\n  <tbody>\n    <tr>\n      <th>0</th>\n      <td>en.hongdian.com</td>\n      <td>China(简体中文)  日本語  русский  язык  Español  HOME...</td>\n      <td>NaN</td>\n      <td>categories {\\n  name: \"/Computers &amp; Electronic...</td>\n    </tr>\n    <tr>\n      <th>1</th>\n      <td>hotmart.com</td>\n      <td>Hotmart  —  Learn  what  you  want,  teach  ...</td>\n      <td>NaN</td>\n      <td>categories {\\n  name: \"/Business &amp; Industrial/...</td>\n    </tr>\n    <tr>\n      <th>2</th>\n      <td>philippineairlines.com</td>\n      <td>Philippine  Airlines  Book  Explore  Manage ...</td>\n      <td>NaN</td>\n      <td>categories {\\n  name: \"/Travel &amp; Transportatio...</td>\n    </tr>\n    <tr>\n      <th>3</th>\n      <td>hotels.com</td>\n      <td>Bot  or  Not?Show  us  your  human  side...We ...</td>\n      <td>NaN</td>\n      <td>categories {\\n  name: \"/Arts &amp; Entertainment/F...</td>\n    </tr>\n    <tr>\n      <th>4</th>\n      <td>leverageedu.com</td>\n      <td>Leverage  Edu  -  Your  Trusted  Study  Abroad...</td>\n      <td>NaN</td>\n      <td>categories {\\n  name: \"/Jobs &amp; Education/Educa...</td>\n    </tr>\n    <tr>\n      <th>...</th>\n      <td>...</td>\n      <td>...</td>\n      <td>...</td>\n      <td>...</td>\n    </tr>\n    <tr>\n      <th>491</th>\n      <td>tmtambayan.ph</td>\n      <td>TM  Tambayan  -  Call,  Text,  and  Surf  Prom...</td>\n      <td>NaN</td>\n      <td>categories {\\n  name: \"/Internet &amp; Telecom/Ser...</td>\n    </tr>\n    <tr>\n      <th>492</th>\n      <td>sunwoda.com</td>\n      <td>欣旺达-欣旺达电子股份有限公司  Toggle  navigation  股票名称:  欣旺...</td>\n      <td>NaN</td>\n      <td>categories {\\n  name: \"/News/Business News/Com...</td>\n    </tr>\n    <tr>\n      <th>493</th>\n      <td>hyatt.com</td>\n      <td>酒店预订  |  在线预订酒店客房  -  凯悦酒店及度假村  略过主导航EnglishDe...</td>\n      <td>NaN</td>\n      <td>categories {\\n  name: \"/Travel &amp; Transportatio...</td>\n    </tr>\n    <tr>\n      <th>494</th>\n      <td>monitormyocean.com</td>\n      <td>MonitorMyOcean  Monitor  My  OceanThe  Acousti...</td>\n      <td>NaN</td>\n      <td>categories {\\n  name: \"/Science/Earth Sciences...</td>\n    </tr>\n    <tr>\n      <th>495</th>\n      <td>nt-mevid.com</td>\n      <td>南通美韦德生命科学有限公司  English  |  中文  网站首页  关于我们  公司简...</td>\n      <td>NaN</td>\n      <td>categories {\\n  name: \"/Science/Scientific Equ...</td>\n    </tr>\n  </tbody>\n</table>\n<p>496 rows × 4 columns</p>\n</div>"
     },
     "execution_count": 3,
     "metadata": {},
     "output_type": "execute_result"
    }
   ],
   "source": [
    "df"
   ],
   "metadata": {
    "collapsed": false
   }
  },
  {
   "cell_type": "code",
   "execution_count": 5,
   "outputs": [
    {
     "name": "stdout",
     "output_type": "stream",
     "text": [
      "<class 'str'>\n"
     ]
    }
   ],
   "source": [
    "print(type(df.loc[0, 'results']))"
   ],
   "metadata": {
    "collapsed": false
   }
  },
  {
   "cell_type": "code",
   "execution_count": 10,
   "outputs": [
    {
     "name": "stdout",
     "output_type": "stream",
     "text": [
      "categories {\n",
      "  name: \"/Computers & Electronics/Networking/Networking Equipment\"\n",
      "  confidence: 0.676442146\n",
      "}\n",
      "categories {\n",
      "  name: \"/Computers & Electronics/Enterprise Technology/Other\"\n",
      "  confidence: 0.204386383\n",
      "}\n",
      "categories {\n",
      "  name: \"/Internet & Telecom/Mobile & Wireless/Other\"\n",
      "  confidence: 0.198340923\n",
      "}\n",
      "categories {\n",
      "  name: \"/Computers & Electronics/Networking/Other\"\n",
      "  confidence: 0.133739874\n",
      "}\n",
      "categories {\n",
      "  name: \"/Internet & Telecom/Communications Equipment/Other\"\n",
      "  confidence: 0.127469331\n",
      "}\n",
      "categories {\n",
      "  name: \"/Computers & Electronics/Computer Hardware/Other\"\n",
      "  confidence: 0.123873025\n",
      "}\n",
      "categories {\n",
      "  name: \"/Computers & Electronics/Consumer Electronics/Other\"\n",
      "  confidence: 0.105189368\n",
      "}\n",
      "\n"
     ]
    }
   ],
   "source": [
    "print(df.loc[0, 'results'])"
   ],
   "metadata": {
    "collapsed": false
   }
  },
  {
   "cell_type": "code",
   "execution_count": 16,
   "outputs": [
    {
     "name": "stderr",
     "output_type": "stream",
     "text": [
      "100%|██████████| 496/496 [00:00<00:00, 13020.25it/s]\n"
     ]
    }
   ],
   "source": [
    "from tqdm import tqdm\n",
    "import re\n",
    "\n",
    "for i in tqdm(range(len(df))):\n",
    "    if df.loc[i, 'results'] == df.loc[i, 'results']:\n",
    "        start_index = df.loc[i, 'results'].index(\"name:\") + 8\n",
    "        end_index = df.loc[i, 'results'].index(\"\\n\", start_index) - 1\n",
    "        category = df.loc[i, 'results'][start_index:end_index].strip()\n",
    "        # print(category)\n",
    "        df.loc[i, 'category'] = category"
   ],
   "metadata": {
    "collapsed": false
   }
  },
  {
   "cell_type": "code",
   "execution_count": 17,
   "outputs": [
    {
     "data": {
      "text/plain": "                     domain  \\\n0           en.hongdian.com   \n1               hotmart.com   \n2    philippineairlines.com   \n3                hotels.com   \n4           leverageedu.com   \n..                      ...   \n491           tmtambayan.ph   \n492             sunwoda.com   \n493               hyatt.com   \n494      monitormyocean.com   \n495            nt-mevid.com   \n\n                                                  text  \\\n0    China(简体中文)  日本語  русский  язык  Español  HOME...   \n1      Hotmart  —  Learn  what  you  want,  teach  ...   \n2      Philippine  Airlines  Book  Explore  Manage ...   \n3    Bot  or  Not?Show  us  your  human  side...We ...   \n4    Leverage  Edu  -  Your  Trusted  Study  Abroad...   \n..                                                 ...   \n491  TM  Tambayan  -  Call,  Text,  and  Surf  Prom...   \n492  欣旺达-欣旺达电子股份有限公司  Toggle  navigation  股票名称:  欣旺...   \n493  酒店预订  |  在线预订酒店客房  -  凯悦酒店及度假村  略过主导航EnglishDe...   \n494  MonitorMyOcean  Monitor  My  OceanThe  Acousti...   \n495  南通美韦德生命科学有限公司  English  |  中文  网站首页  关于我们  公司简...   \n\n                                              category  \\\n0    Computers & Electronics/Networking/Networking ...   \n1    Business & Industrial/Business Services/E-Comm...   \n2    Travel & Transportation/Transportation/Air Travel   \n3    Arts & Entertainment/Fun & Trivia/Fun Tests & ...   \n4              Jobs & Education/Education/Study Abroad   \n..                                                 ...   \n491  Internet & Telecom/Service Providers/Phone Ser...   \n492                    News/Business News/Company News   \n493  Travel & Transportation/Hotels & Accommodation...   \n494                       Science/Earth Sciences/Other   \n495                       Science/Scientific Equipment   \n\n                                               results  \n0    categories {\\n  name: \"/Computers & Electronic...  \n1    categories {\\n  name: \"/Business & Industrial/...  \n2    categories {\\n  name: \"/Travel & Transportatio...  \n3    categories {\\n  name: \"/Arts & Entertainment/F...  \n4    categories {\\n  name: \"/Jobs & Education/Educa...  \n..                                                 ...  \n491  categories {\\n  name: \"/Internet & Telecom/Ser...  \n492  categories {\\n  name: \"/News/Business News/Com...  \n493  categories {\\n  name: \"/Travel & Transportatio...  \n494  categories {\\n  name: \"/Science/Earth Sciences...  \n495  categories {\\n  name: \"/Science/Scientific Equ...  \n\n[496 rows x 4 columns]",
      "text/html": "<div>\n<style scoped>\n    .dataframe tbody tr th:only-of-type {\n        vertical-align: middle;\n    }\n\n    .dataframe tbody tr th {\n        vertical-align: top;\n    }\n\n    .dataframe thead th {\n        text-align: right;\n    }\n</style>\n<table border=\"1\" class=\"dataframe\">\n  <thead>\n    <tr style=\"text-align: right;\">\n      <th></th>\n      <th>domain</th>\n      <th>text</th>\n      <th>category</th>\n      <th>results</th>\n    </tr>\n  </thead>\n  <tbody>\n    <tr>\n      <th>0</th>\n      <td>en.hongdian.com</td>\n      <td>China(简体中文)  日本語  русский  язык  Español  HOME...</td>\n      <td>Computers &amp; Electronics/Networking/Networking ...</td>\n      <td>categories {\\n  name: \"/Computers &amp; Electronic...</td>\n    </tr>\n    <tr>\n      <th>1</th>\n      <td>hotmart.com</td>\n      <td>Hotmart  —  Learn  what  you  want,  teach  ...</td>\n      <td>Business &amp; Industrial/Business Services/E-Comm...</td>\n      <td>categories {\\n  name: \"/Business &amp; Industrial/...</td>\n    </tr>\n    <tr>\n      <th>2</th>\n      <td>philippineairlines.com</td>\n      <td>Philippine  Airlines  Book  Explore  Manage ...</td>\n      <td>Travel &amp; Transportation/Transportation/Air Travel</td>\n      <td>categories {\\n  name: \"/Travel &amp; Transportatio...</td>\n    </tr>\n    <tr>\n      <th>3</th>\n      <td>hotels.com</td>\n      <td>Bot  or  Not?Show  us  your  human  side...We ...</td>\n      <td>Arts &amp; Entertainment/Fun &amp; Trivia/Fun Tests &amp; ...</td>\n      <td>categories {\\n  name: \"/Arts &amp; Entertainment/F...</td>\n    </tr>\n    <tr>\n      <th>4</th>\n      <td>leverageedu.com</td>\n      <td>Leverage  Edu  -  Your  Trusted  Study  Abroad...</td>\n      <td>Jobs &amp; Education/Education/Study Abroad</td>\n      <td>categories {\\n  name: \"/Jobs &amp; Education/Educa...</td>\n    </tr>\n    <tr>\n      <th>...</th>\n      <td>...</td>\n      <td>...</td>\n      <td>...</td>\n      <td>...</td>\n    </tr>\n    <tr>\n      <th>491</th>\n      <td>tmtambayan.ph</td>\n      <td>TM  Tambayan  -  Call,  Text,  and  Surf  Prom...</td>\n      <td>Internet &amp; Telecom/Service Providers/Phone Ser...</td>\n      <td>categories {\\n  name: \"/Internet &amp; Telecom/Ser...</td>\n    </tr>\n    <tr>\n      <th>492</th>\n      <td>sunwoda.com</td>\n      <td>欣旺达-欣旺达电子股份有限公司  Toggle  navigation  股票名称:  欣旺...</td>\n      <td>News/Business News/Company News</td>\n      <td>categories {\\n  name: \"/News/Business News/Com...</td>\n    </tr>\n    <tr>\n      <th>493</th>\n      <td>hyatt.com</td>\n      <td>酒店预订  |  在线预订酒店客房  -  凯悦酒店及度假村  略过主导航EnglishDe...</td>\n      <td>Travel &amp; Transportation/Hotels &amp; Accommodation...</td>\n      <td>categories {\\n  name: \"/Travel &amp; Transportatio...</td>\n    </tr>\n    <tr>\n      <th>494</th>\n      <td>monitormyocean.com</td>\n      <td>MonitorMyOcean  Monitor  My  OceanThe  Acousti...</td>\n      <td>Science/Earth Sciences/Other</td>\n      <td>categories {\\n  name: \"/Science/Earth Sciences...</td>\n    </tr>\n    <tr>\n      <th>495</th>\n      <td>nt-mevid.com</td>\n      <td>南通美韦德生命科学有限公司  English  |  中文  网站首页  关于我们  公司简...</td>\n      <td>Science/Scientific Equipment</td>\n      <td>categories {\\n  name: \"/Science/Scientific Equ...</td>\n    </tr>\n  </tbody>\n</table>\n<p>496 rows × 4 columns</p>\n</div>"
     },
     "execution_count": 17,
     "metadata": {},
     "output_type": "execute_result"
    }
   ],
   "source": [
    "df"
   ],
   "metadata": {
    "collapsed": false
   }
  },
  {
   "cell_type": "code",
   "execution_count": 20,
   "outputs": [
    {
     "data": {
      "text/plain": "'Jobs & Education/Education/Study Abroad'"
     },
     "execution_count": 20,
     "metadata": {},
     "output_type": "execute_result"
    }
   ],
   "source": [
    "df.loc[4, 'category']"
   ],
   "metadata": {
    "collapsed": false
   }
  },
  {
   "cell_type": "code",
   "execution_count": 21,
   "outputs": [
    {
     "data": {
      "text/plain": "                      domain  \\\n83   dysterra.kakaogames.com   \n86              alihunter.io   \n317                vultr.com   \n323              oxywise.com   \n373             starplus.com   \n377     telkom.co.ke/t-kash/   \n439         drogaraia.com.br   \n442        discoveryplus.com   \n488                zredo.com   \n\n                                                  text category results  \n83                                            DYSTERRA      NaN     NaN  \n86   Ali  Hunter  //  Google  Tag  Manager  (noscri...      NaN     NaN  \n317    Vultr.com  Please  complete  the  security  ...      NaN     NaN  \n323    Home  Page  |  Oxywise  About  cookies  on  ...      NaN     NaN  \n373    Star+  Star+  is  not  available  in  your  ...      NaN     NaN  \n377                                T-kash  –  Telkom        NaN     NaN  \n439    Access  Denied  Access  Denied  You  don't  ...      NaN     NaN  \n442                                         discovery+      NaN     NaN  \n488                                                NaN      NaN     NaN  ",
      "text/html": "<div>\n<style scoped>\n    .dataframe tbody tr th:only-of-type {\n        vertical-align: middle;\n    }\n\n    .dataframe tbody tr th {\n        vertical-align: top;\n    }\n\n    .dataframe thead th {\n        text-align: right;\n    }\n</style>\n<table border=\"1\" class=\"dataframe\">\n  <thead>\n    <tr style=\"text-align: right;\">\n      <th></th>\n      <th>domain</th>\n      <th>text</th>\n      <th>category</th>\n      <th>results</th>\n    </tr>\n  </thead>\n  <tbody>\n    <tr>\n      <th>83</th>\n      <td>dysterra.kakaogames.com</td>\n      <td>DYSTERRA</td>\n      <td>NaN</td>\n      <td>NaN</td>\n    </tr>\n    <tr>\n      <th>86</th>\n      <td>alihunter.io</td>\n      <td>Ali  Hunter  //  Google  Tag  Manager  (noscri...</td>\n      <td>NaN</td>\n      <td>NaN</td>\n    </tr>\n    <tr>\n      <th>317</th>\n      <td>vultr.com</td>\n      <td>Vultr.com  Please  complete  the  security  ...</td>\n      <td>NaN</td>\n      <td>NaN</td>\n    </tr>\n    <tr>\n      <th>323</th>\n      <td>oxywise.com</td>\n      <td>Home  Page  |  Oxywise  About  cookies  on  ...</td>\n      <td>NaN</td>\n      <td>NaN</td>\n    </tr>\n    <tr>\n      <th>373</th>\n      <td>starplus.com</td>\n      <td>Star+  Star+  is  not  available  in  your  ...</td>\n      <td>NaN</td>\n      <td>NaN</td>\n    </tr>\n    <tr>\n      <th>377</th>\n      <td>telkom.co.ke/t-kash/</td>\n      <td>T-kash  –  Telkom</td>\n      <td>NaN</td>\n      <td>NaN</td>\n    </tr>\n    <tr>\n      <th>439</th>\n      <td>drogaraia.com.br</td>\n      <td>Access  Denied  Access  Denied  You  don't  ...</td>\n      <td>NaN</td>\n      <td>NaN</td>\n    </tr>\n    <tr>\n      <th>442</th>\n      <td>discoveryplus.com</td>\n      <td>discovery+</td>\n      <td>NaN</td>\n      <td>NaN</td>\n    </tr>\n    <tr>\n      <th>488</th>\n      <td>zredo.com</td>\n      <td>NaN</td>\n      <td>NaN</td>\n      <td>NaN</td>\n    </tr>\n  </tbody>\n</table>\n</div>"
     },
     "execution_count": 21,
     "metadata": {},
     "output_type": "execute_result"
    }
   ],
   "source": [
    "df[df['category'].isna()]"
   ],
   "metadata": {
    "collapsed": false
   }
  },
  {
   "cell_type": "code",
   "execution_count": 22,
   "outputs": [],
   "source": [
    "df.to_csv('domain_with_category.csv', index = False)"
   ],
   "metadata": {
    "collapsed": false
   }
  },
  {
   "cell_type": "code",
   "execution_count": null,
   "outputs": [],
   "source": [],
   "metadata": {
    "collapsed": false
   }
  }
 ],
 "metadata": {
  "kernelspec": {
   "display_name": "Python 3",
   "language": "python",
   "name": "python3"
  },
  "language_info": {
   "codemirror_mode": {
    "name": "ipython",
    "version": 2
   },
   "file_extension": ".py",
   "mimetype": "text/x-python",
   "name": "python",
   "nbconvert_exporter": "python",
   "pygments_lexer": "ipython2",
   "version": "2.7.6"
  }
 },
 "nbformat": 4,
 "nbformat_minor": 0
}
